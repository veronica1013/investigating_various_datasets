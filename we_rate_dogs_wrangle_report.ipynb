{
 "cells": [
  {
   "attachments": {},
   "cell_type": "markdown",
   "metadata": {},
   "source": [
    "# Reporting: wrangle_report \n",
    "> This report entails the wrangling efforts done on we rate dogs project. "
   ]
  },
  {
   "cell_type": "markdown",
   "metadata": {},
   "source": [
    "## Table Of Contents\n",
    "<ul>\n",
    "<li><a href=\"#PROJECT_OVERVIEW\">1.0 Project Overview</a></li>\n",
    "<li><a href=\"#DATA_GATHERING\">2.0 Data Gathering</a></li>\n",
    "<li><a href=\"#ASSESSING_DATA\">3.0 Assessing Data</a></li>\n",
    "<li><a href=\"#DATA_QUALITY_TIDINESS\">4.0 Data Quality and Tidy Issues\n",
    "<li><a href=\"#QUALITY_ISSUES\">4.1.0 Data Quality Issues</a></li>   \n",
    "<li><a href=\"#TIDY_ISSUES\">4.2.0 Tidy Issues</a></li>\n",
    "<li><a href=\"#CLEANING_DATA\">5.0 Cleaning Data</a></li>\n",
    "<li><a href=\"#COPY_DATA\">5.1.0 Copy Data</a></li>\n",
    "<li><a href=\"#CQUALITY_ISSUES\">5.2.0 Data Cleaning: Quality Issues</a></li>  \n",
    "<li><a href=\"#CTIDY_ISSUES\">5.3.0 Data Cleaning: Tidiness Issues</a></li>\n",
    "<li><a href=\"#STORING_DATA\">6.0 Storing Data</a></li>\n",
    "<li><a href=\"#VISUALIZATION_INSIGHTS\">7.0 Aalyzing and Visualizing Data</a></li>\n",
    "</ul>\n",
    " "
   ]
  },
  {
   "cell_type": "markdown",
   "metadata": {
    "extensions": {
     "jupyter_dashboards": {
      "version": 1,
      "views": {
       "grid_default": {
        "col": 0,
        "height": 4,
        "hidden": false,
        "row": 0,
        "width": 4
       },
       "report_default": {
        "hidden": false
       }
      }
     }
    }
   },
   "source": [
    "<a id='PROJECT_OVERVIEW'></a>\n",
    "## 1.0 Project Overview\n",
    "\n",
    "This project entails dataset that involves rating of people's dogs via WeRateDogs twitter account. The aim of the project is to wrangle (analyzing and visualizing) the tweet archive of Twitter user @dog_rates, also known as WeRateDogs.  These ratings almost always have a denominator of 10. The numerators, on the other hand, almost always greater than 10. 11/10, 12/10, 13/10, etc. Why? Because \"they're good dogs Brent.\"\n",
    "\n",
    "The data provided are in three sets that will be loaded in this notebook differently. The first dataset will be gathered using the read_csv, the second one will be gathered using the get request and the third will be scrapped from twitter using teepy library.\n",
    "\n",
    "The next step will be assessing the data to identify data quality and tidiness issues for cleaning. After Cleaning, we'll save the data in a new csv and the perform visualization and make insights thereof."
   ]
  },
  {
   "cell_type": "markdown",
   "metadata": {},
   "source": [
    "<a id='DATA_GATHERING'></a>\n",
    "## 2.0 Data Gathering\n",
    "\n",
    "1. Directly download the WeRateDogs Twitter archive data (twitter_archive_enhanced.csv)"
   ]
  },
  {
   "cell_type": "markdown",
   "metadata": {},
   "source": [
    "### 2.1 Import Relevant Libraries and Load Data\n",
    "\n",
    "> After downloading the data, I loaded it using pandas and numpy libraries."
   ]
  },
  {
   "cell_type": "markdown",
   "metadata": {},
   "source": [
    "### 2.2 Loading Data"
   ]
  },
  {
   "cell_type": "markdown",
   "metadata": {},
   "source": [
    "### <font color='blue'>2.2.1. Loading the First DataSet (twitter_archive_enhanced.csv).</font>\n",
    "\n",
    "> I then loaded the data using pd.read_csv function and previewed a section of the data."
   ]
  },
  {
   "cell_type": "markdown",
   "metadata": {},
   "source": [
    "### <font color='blue'>2.2.2 Loading The Second DataSet (image_predictions.tsv) using get request.</font>\n",
    "\n",
    "> The use the Requests library to download the tweet image prediction (image_predictions.tsv)"
   ]
  },
  {
   "cell_type": "markdown",
   "metadata": {},
   "source": [
    "**Observations**\n",
    "> After loading the image predictions file using the get request, the content was returned as a text. In order to read the file from a String into pandas DataFrame, I'll first need to convert the string into StringIO. So, I'll import StringIO from the io library before use. Therefore, I'll import io and the StringIO will have been imported already. "
   ]
  },
  {
   "cell_type": "markdown",
   "metadata": {},
   "source": [
    "### 2.2.2.1 Importing the IO\n",
    "> I used io to read the prediction_df images to pandas data frame. The dataframe had 2075 rows and 12 columns. The column names list was 'tweet_id', 'jpg_url', 'img_num', 'p1', 'p1_conf', 'p1_dog', 'p2', 'p2_conf', 'p2_dog', 'p3', 'p3_conf' and 'p3_dog'.\n",
    "\n",
    "**Note**\n",
    "> Having 1532 true p1_dog predictions and 543 false predictions, I'll narrow down to the true predictions alone because that's the main focus of the analysis. "
   ]
  },
  {
   "cell_type": "markdown",
   "metadata": {},
   "source": [
    "### <font color='blue'>2.2.3. Loading The Third DataSet (tweet_json.txt)</font>\n",
    "\n",
    "> Using the Tweepy library to query additional data via the Twitter API (tweet_json.txt). The column names for the tweet_json.txt file are as listed below:\n",
    "* 'contributors', 'coordinates', 'created_at', 'display_text_range',\n",
    "* 'entities', 'extended_entities', 'favorite_count', 'favorited',\n",
    "* 'full_text', 'geo', 'id', 'id_str', 'in_reply_to_screen_name',\n",
    "* 'in_reply_to_status_id', 'in_reply_to_status_id_str',\n",
    "* 'in_reply_to_user_id', 'in_reply_to_user_id_str', 'is_quote_status',\n",
    "* 'lang', 'place', 'possibly_sensitive', 'possibly_sensitive_appealable',\n",
    "* 'quoted_status', 'quoted_status_id', 'quoted_status_id_str',\n",
    "* 'retweet_count', 'retweeted', 'retweeted_status', 'source', 'truncated', 'user'.\n",
    "      "
   ]
  },
  {
   "cell_type": "markdown",
   "metadata": {},
   "source": [
    "**Observation**\n",
    "> After loading the third data set, I assigned it to a dataframe with variable name tweets_df_3 which had 2354 rows and 31 columns. \n",
    "\n",
    "**Note**\n",
    "> Considering that we needed to have tweet ID, retweet count, and favorite count columns at minimum, and that there are other columns wont be utilized at the moment, I'll load the df_3 with the aforementioned columns only. I created the below function and loaded the tweets to a list with the name tweets_list:\n",
    "\n",
    "<code>import json\n",
    "#Create an empty list for loading the tweets data\n",
    "tweets_list = []<code>\n",
    "<code>#Create a function for loading the third dataframe\n",
    "def load_tweets_data():\n",
    "    with open('tweet-json.txt', 'r') as tweetsfile: \n",
    "        for tweet in tweetsfile:\n",
    "            data = json.loads(tweet)\n",
    "            tweets_list.append(data)\n",
    "            dataframe = pd.DataFrame(tweets_list, columns=['id', 'favorite_count', 'retweet_count'])\n",
    "    return dataframe<code>\n",
    "\n"
   ]
  },
  {
   "cell_type": "markdown",
   "metadata": {},
   "source": [
    "**Notes**\n",
    "> I then assigned the dataframe to a variable df_3 using the function <code>load_tweets_data<code> with this code below:\n",
    "    <code>df_3 = load_tweets_data().copy(deep=True)<code>. \n",
    "\n",
    "This dataframe now had 2354 rows and 3 columns."
   ]
  },
  {
   "cell_type": "markdown",
   "metadata": {},
   "source": [
    "**N/B**\n",
    "One can access specific tweets by their id with the statuses/show/:id API route. Most Python Twitter libraries follow the exact same patterns, or offer 'friendly' names for the methods.\n",
    "\n",
    "For example, Twython offers several show_* methods, including Twython.show_status() that lets you load specific tweets. Using time.time() to measure the elapsed wall-clock time between two points:"
   ]
  },
  {
   "cell_type": "markdown",
   "metadata": {},
   "source": [
    "The next thing was to now assess the data and identify eight (8) quality issues and two (2) tidiness issues."
   ]
  },
  {
   "cell_type": "markdown",
   "metadata": {
    "extensions": {
     "jupyter_dashboards": {
      "version": 1,
      "views": {
       "grid_default": {
        "col": 4,
        "height": 4,
        "hidden": false,
        "row": 28,
        "width": 4
       },
       "report_default": {
        "hidden": false
       }
      }
     }
    }
   },
   "source": [
    "<a id='ASSESSING_DATA'></a>\n",
    "## 3.0 Assessing Data\n",
    "In this section, detect and document at least **eight (8) quality issues and two (2) tidiness issue**. You must use **both** visual assessment\n",
    "programmatic assessement to assess the data.\n",
    "\n",
    "**Note:** pay attention to the following key points when you access the data.\n",
    "\n",
    "* You only want original ratings (no retweets) that have images. Though there are 5000+ tweets in the dataset, not all are dog ratings and some are retweets.\n",
    "* Assessing and cleaning the entire dataset completely would require a lot of time, and is not necessary to practice and demonstrate your skills in data wrangling. Therefore, the requirements of this project are only to assess and clean at least 8 quality issues and at least 2 tidiness issues in this dataset.\n",
    "* The fact that the rating numerators are greater than the denominators does not need to be cleaned. This [unique rating system](http://knowyourmeme.com/memes/theyre-good-dogs-brent) is a big part of the popularity of WeRateDogs.\n",
    "* You do not need to gather the tweets beyond August 1st, 2017. You can, but note that you won't be able to gather the image predictions for these tweets since you don't have access to the algorithm used.\n",
    "\n"
   ]
  },
  {
   "cell_type": "markdown",
   "metadata": {},
   "source": [
    "### <font color='blue'>3.1. Assessing the First Dataset (twitter_archive_enhanced.csv)\n",
    "    \n",
    "> This file was loaded as df. I'll assess it visually and progmatically to identify any quality and tidiness issues avaliable. Some of the things I'll do to identify if there are any quality issues is that I'll Check if there are any missing values, wrong data types, wrong naming of columns by use of info().\n",
    "\n",
    "> This dataframe had the following column names: 'tweet_id', 'in_reply_to_status_id', 'in_reply_to_user_id', 'timestamp',       'source', 'text', 'retweeted_status_id', 'retweeted_status_user_id', 'retweeted_status_timestamp', 'expanded_urls', 'rating_numerator', 'rating_denominator', 'name', 'doggo', 'floofer', 'pupper', 'puppo'.\n",
    "\n",
    "> After using the info() to check for missing values, below was the output:\n",
    "<code>\n",
    "RangeIndex: 2356 entries, 0 to 2355\n",
    "Data columns (total 17 columns):\n",
    "tweet_id                      2356 non-null int64\n",
    "in_reply_to_status_id         78 non-null float64\n",
    "in_reply_to_user_id           78 non-null float64\n",
    "timestamp                     2356 non-null object\n",
    "source                        2356 non-null object\n",
    "text                          2356 non-null object\n",
    "retweeted_status_id           181 non-null float64\n",
    "retweeted_status_user_id      181 non-null float64\n",
    "retweeted_status_timestamp    181 non-null object\n",
    "expanded_urls                 2297 non-null object\n",
    "rating_numerator              2356 non-null int64\n",
    "rating_denominator            2356 non-null int64\n",
    "name                          2356 non-null object\n",
    "doggo                         2356 non-null object\n",
    "floofer                       2356 non-null object\n",
    "pupper                        2356 non-null object\n",
    "puppo                         2356 non-null object"
   ]
  },
  {
   "cell_type": "markdown",
   "metadata": {},
   "source": [
    "**Observation**\n",
    "> From the above output, it's noted that the dataframe has 2356 entries and and 4 columns. The column names are well written. There are only 78 entries that have values in the in_reply_to_status_id and in_reply_to_user_id columns. Most of the data is missing for the two listed columns.\n",
    "\n",
    "> It's also indicated that in_reply_to_status_id and in_reply_to_user_id columns have float as the data type. I'll check if this is the case pragmatically."
   ]
  },
  {
   "cell_type": "markdown",
   "metadata": {},
   "source": [
    "#### a. Check for the unique values in in_reply_to_status_id and in_reply_to_user_id"
   ]
  },
  {
   "cell_type": "markdown",
   "metadata": {},
   "source": [
    "Next I'll check for the unique values in in_reply_to_status_id and in_reply_to_user_id by creating a function as shown below:\n",
    "\n",
    "<code># Create a function for checking unique values\n",
    "def unique_values(specify_df, column_name):\n",
    "    return specify_df[column_name].unique()\n",
    "    "
   ]
  },
  {
   "cell_type": "markdown",
   "metadata": {},
   "source": [
    "**Observation**\n",
    ">The in_reply_to_status_id and in_reply_to_user_id columns had the values in exponential format thus difficult to know the exact values in the stated columns."
   ]
  },
  {
   "cell_type": "markdown",
   "metadata": {},
   "source": [
    "### <font color='blue'>3.2. Assesing the Second DataSet (image_predictions.tsv)\n",
    "> This dataset was loaded as predictions_df. I'll perform assessment both visually and progmatically. To do so, I'll first preview it using the <code>predictions_df.head()"
   ]
  },
  {
   "cell_type": "markdown",
   "metadata": {},
   "source": [
    "**Column Definitions for the Predictions Dataframe**\n",
    "The definitions for the above dataframe are as listed below:\n",
    ">* tweet_id is the last part of the tweet URL after \"status/\" → https://twitter.com/dog_rates/status/889531135344209921\n",
    ">* p1 is the algorithm's #1 prediction for the image in the tweet → golden retriever\n",
    ">* p1_conf is how confident the algorithm is in its #1 prediction → 95%\n",
    ">* p1_dog is whether or not the #1 prediction is a breed of dog → TRUE\n",
    ">* p2 is the algorithm's second most likely prediction → Labrador retriever\n",
    ">* p2_conf is how confident the algorithm is in its #2 prediction → 1%\n",
    ">* p2_dog is whether or not the #2 prediction is a breed of dog → TRUE etc"
   ]
  },
  {
   "cell_type": "markdown",
   "metadata": {},
   "source": [
    "#### b. Check the data type, missing values and the naming of columns\n",
    "\n",
    ">I used info() to check for missing values on the predictions_df and found no missing values."
   ]
  },
  {
   "cell_type": "markdown",
   "metadata": {},
   "source": [
    "**Notes**\n",
    "The unique values in img_num column in predictions_df had four unique values (1,2,3,4). "
   ]
  },
  {
   "cell_type": "markdown",
   "metadata": {},
   "source": [
    "#### c. Check for unique values in p1, p2 and p3\n",
    "\n",
    "> After check for the unique values in p1, p2 and p3, it was noted that there were some names that appeared as dog names yet they are not. More details on the unique values is as indicated in this [link](https://docs.google.com/document/d/11dT1RSS-6ZFwQSpdrWdiW9BrcBu_ddelvQ9BSyhpilM/edit?usp=sharing).\n",
    "    \n"
   ]
  },
  {
   "cell_type": "markdown",
   "metadata": {},
   "source": [
    "**Observation**\n",
    ">From the above output. there are 2075 entries and 12 columns. The info method indicates that there are no missing values and that the data types are in the right format. However, the naming of the unique values in p1, p2 and p3 are not consitent. Some have underscores, hyphen, others are written in small letters while some start with upper cases.\n",
    "\n",
    "> There are names listed as dogs but they aren't dog breeds such as wooden_spoon, pencil_box, envelope, coffee_mug etc in p1"
   ]
  },
  {
   "cell_type": "markdown",
   "metadata": {},
   "source": [
    "### <font color='blue'>3.3 Assessing the Third DataSet (tweet-json.txt)\n",
    "This dataset was loaded as df_3."
   ]
  },
  {
   "cell_type": "markdown",
   "metadata": {},
   "source": [
    "**Observation**\n",
    ">There are missing values from the displayed last five rows. I'll use the info() to check for further issues."
   ]
  },
  {
   "cell_type": "markdown",
   "metadata": {},
   "source": [
    "**Observation**\n",
    ">The tweet_json.txt file was loaded as df_3. The info() indicates there are no null values. The data types are in the right formats."
   ]
  },
  {
   "cell_type": "markdown",
   "metadata": {},
   "source": [
    "<a id='DATA_QUALITY_TIDINESS'></a>\n",
    "## 4.0 Data Quality and Tidiness Issues"
   ]
  },
  {
   "cell_type": "markdown",
   "metadata": {},
   "source": [
    "<a id='QUALITY_ISSUES'></a>\n",
    "### 4.1.0 Quality Issues\n",
    ">1. Columns in_reply_to_status_id and in_reply_to_user_id columns in the twitter_archived_enhanced.csv have lots of missing data.\n",
    "\n",
    ">2. in_reply_to_status_id and in_reply_to_user_id columns in the twitter_archived_enhanced.csv (df) had the values in exponential.\n",
    "\n",
    ">3. The timestamp column in twitter_archived_enhanced.csv (df) was in object instead of datetime format.\n",
    "\n",
    ">4. The names of dog breeds in the predictions df are not consistent. Some names have underscores, hypen, upper case\n",
    "\n",
    ">5. From the visual assessment, the rating denominator should be 10 but there are values i.e 0, 15, 70, 7, 11, 150, 170, 20, 50, 90, 80, 40, 130, 110, 16, 120, 2 .\n",
    "\n",
    ">6. Some columns in the df dataframe are not necessary such as the name, expanded urls, text, source among others. It represents the name od the dogs and not the breed of the dog.\n",
    "\n",
    ">7. The naming of the columns in predictions_df are not discrete i.e img_num, p1, p1_conf, p1_dog, p2, p2_conf, p2_dog, p3, p3_conf, p3_dog. It is difficult for one to understand what the columns represent\n",
    "\n",
    ">8. Some names listed as breeds of dogs are not correct. Example is wooden spoon, pencil box, envelope, entertainment centre, lifeboat, coackroach, crate, water_bottle among others."
   ]
  },
  {
   "cell_type": "markdown",
   "metadata": {
    "extensions": {
     "jupyter_dashboards": {
      "version": 1,
      "views": {
       "grid_default": {
        "col": 0,
        "height": 7,
        "hidden": false,
        "row": 40,
        "width": 12
       },
       "report_default": {
        "hidden": false
       }
      }
     }
    }
   },
   "source": [
    "<a id='TIDY_ISSUES'></a>\n",
    "### 4.2.0 Tidy Issues\n",
    ">1. In the third dataframe (df_3) the breeds of dog p1, p2 and p3 should be in one column where it captures the breed with the highest confidence level. This column could be referred to type of breed.\n",
    "\n",
    ">2. The tweet id are in dataframe one and two while in the third dataframe, it is referred to as id. This should be merged to one dataframe so that there's only one tweet id.\n",
    "\n",
    ">3. The dog stages in the first dataframe (df) are captured in separate columns. This should be in one column called dog_stages with the details of the stages of the dog i.e. doggo, floofer, pupper, and puppo. More infomation is found via the (#WeRateDogs book)(https://www.amazon.com/WeRateDogs-Most-Hilarious-Adorable-Youve/dp/1510717145) on Amazon."
   ]
  },
  {
   "cell_type": "markdown",
   "metadata": {
    "extensions": {
     "jupyter_dashboards": {
      "version": 1,
      "views": {
       "grid_default": {
        "col": 4,
        "height": 4,
        "hidden": false,
        "row": 32,
        "width": 4
       },
       "report_default": {
        "hidden": false
       }
      }
     }
    }
   },
   "source": [
    "<a id='CLEANING_DATA'></a>\n",
    "## 5.0 Cleaning Data\n",
    "In this section, I performed cleaning **all** of the issues documented earlier during assessessment. \n",
    "\n",
    "**Note:** Before cleaning the dataframes, I made copies of the original data before cleaning. Cleaning included merging of individual pieces of data according to the rules of [tidy data](https://cran.r-project.org/web/packages/tidyr/vignettes/tidy-data.html). "
   ]
  },
  {
   "cell_type": "markdown",
   "metadata": {},
   "source": [
    "<a id='COPY_DATA'></a>\n",
    "### 5.1.0 Copy Data\n",
    "\n",
    "> Before perfoming any cleaning, I made copies of the dataframes as df_1_copy, df_2_copy and df_3_copy."
   ]
  },
  {
   "cell_type": "markdown",
   "metadata": {},
   "source": [
    "<a id='CQUALITY_ISSUES'></a>\n",
    "### 5.2.0 Data Cleaning: Quality Issues"
   ]
  },
  {
   "cell_type": "markdown",
   "metadata": {},
   "source": [
    "### <font color='blue'>Issue #1: \n",
    "><font color='blue'>**Columns in_reply_to_status_id and in_reply_to_user_id columns in the twitter_archived_enhanced.csv have lots of missing data.**"
   ]
  },
  {
   "cell_type": "markdown",
   "metadata": {},
   "source": [
    "**output**\n",
    "> I dropped these columns using the drop function then previewed the column names to confirm the columns are dropped using <code>df_1_copy.columns"
   ]
  },
  {
   "cell_type": "markdown",
   "metadata": {},
   "source": [
    "### <font color='blue'>Issue #2:\n",
    "><font color='blue'>**a. in_reply_to_status_id and in_reply_to_user_id columns in the twitter_archived_enhanced.csv (df) had the values in exponential.**"
   ]
  },
  {
   "cell_type": "markdown",
   "metadata": {
    "collapsed": true,
    "extensions": {
     "jupyter_dashboards": {
      "version": 1,
      "views": {
       "grid_default": {
        "hidden": true
       },
       "report_default": {
        "hidden": true
       }
      }
     }
    }
   },
   "source": [
    "#### Note\n",
    "> These columns have been dropped otherwise to remove exponential in python, I would have used the lambda function to supress the scientific notation. I'll make a copy of the origainal dataframe and perform this step."
   ]
  },
  {
   "cell_type": "markdown",
   "metadata": {},
   "source": [
    "><font color='blue'>**b. Rename the column names ('doggo', 'floofer', 'pupper', 'puppo') in twitter_archived_enhanced.csv.**"
   ]
  },
  {
   "cell_type": "markdown",
   "metadata": {},
   "source": [
    "**Code**\n",
    "\n",
    "<code># Rename the column names of the dog stages\n",
    "df_1_copy.rename(columns = {'floofer' : 'floofer_stage',\n",
    "                           'doggo' : 'doggo_stage',\n",
    "                           'pupper': 'pupper_stage',\n",
    "                           'puppo': 'puppo_stage'}, inplace=True)"
   ]
  },
  {
   "cell_type": "markdown",
   "metadata": {},
   "source": [
    "**Test**"
   ]
  },
  {
   "cell_type": "markdown",
   "metadata": {},
   "source": [
    "> I then previewed the column names to confirm if columns have been renamed using df_1_copy.columns."
   ]
  },
  {
   "cell_type": "markdown",
   "metadata": {},
   "source": [
    "### <font color='blue'>Issue #3:\n",
    "><font color='blue'>**The timestamp column in twitter_archived_enhanced.csv (df) was in object instead of datetime format.**"
   ]
  },
  {
   "cell_type": "markdown",
   "metadata": {},
   "source": [
    "**Define**\n",
    ">Change the timestamp column from object to datetime datatype using to_datetime method."
   ]
  },
  {
   "cell_type": "markdown",
   "metadata": {},
   "source": [
    "### <font color='blue'>Issue #4:\n",
    "><font color='blue'>**The names of dog breeds in the predictions df are not consistent. Some names have underscores, hypen, upper case.**"
   ]
  },
  {
   "cell_type": "markdown",
   "metadata": {},
   "source": [
    "**Define**\n",
    ">Remove the hyphens, underscores and upper case using str.lower() and .replace() in columns p1, p2 and p3. "
   ]
  },
  {
   "cell_type": "markdown",
   "metadata": {},
   "source": [
    "**Note:**\n",
    ">Considering that python is case sensitive, I'll lower all the dog breeds in columns p1, p2 and p3 and thereafter remove the underscores and hyphens and replace them with white/empty spaces."
   ]
  },
  {
   "cell_type": "markdown",
   "metadata": {},
   "source": [
    "**Observation:**\n",
    "> From the above output, it is evident that the dog breeds are in lower case and that the underscores and hyphens have been removed."
   ]
  },
  {
   "cell_type": "markdown",
   "metadata": {},
   "source": [
    "### <font color='blue'>Issue #5:\n",
    "><font color='blue'>**From the visual assessment, the rating denominator should be 10 but there are values i.e 0,  15,  70,   7,  11, 150, 170,  20,  50,  90,  80,  40,\n",
    "       130, 110,  16, 120,   2 .**"
   ]
  },
  {
   "cell_type": "markdown",
   "metadata": {},
   "source": [
    "**Define**\n",
    ">Drop the rating denominator column using .drop(). This column isn't of much use during the analysis."
   ]
  },
  {
   "cell_type": "markdown",
   "metadata": {},
   "source": [
    "### <font color='blue'>Issue #6:\n",
    "><font color='blue'>**Some columns in the first dataframe (df_1_copy) are not necessary such as the name, expanded urls, text, source among others. It represents the name of the dogs and not the breed of the dog.**"
   ]
  },
  {
   "cell_type": "markdown",
   "metadata": {},
   "source": [
    "**Define**\n",
    ">Use the drop function to remove columns that won't be used during analysis"
   ]
  },
  {
   "cell_type": "markdown",
   "metadata": {},
   "source": [
    "### <font color='blue'>Issue #7:\n",
    "><font color='blue'> **The naming of the columns in predictions_df are not discrete i.e img_num, p1, p1_conf, p1_dog, p2, p2_conf, p2_dog, p3, p3_conf, p3_dog. It is difficult for one to understand what the columns represent.**   "
   ]
  },
  {
   "cell_type": "markdown",
   "metadata": {},
   "source": [
    "**Define**\n",
    ">Rename the columns p1, p1_conf, p1_dog, p2, p2_conf, p2_dog, p3, p3_conf, p3_dog to prediction_1, prediction_1_confidence, prediction_1_status,prediction_2, prediction_2_confidence, prediction_2_status, prediction_3, prediction_3_confidence, prediction_3_status "
   ]
  },
  {
   "cell_type": "markdown",
   "metadata": {},
   "source": [
    "<a id='CTIDY_ISSUES'></a>\n",
    "### 5.3.0 Data Cleaning: Tidiness Issues"
   ]
  },
  {
   "cell_type": "markdown",
   "metadata": {},
   "source": [
    "### <font color='blue'>Issue #8:\n",
    "><font color='blue'>**Some names listed as breeds of dogs are not correct. Example is wooden spoon, pencil box, envelope, entertainment centre, lifeboat, coackroach, crate, water_bottle among others.**"
   ]
  },
  {
   "cell_type": "markdown",
   "metadata": {},
   "source": [
    "**Define**\n",
    ">* Having the three confidence level on the predictions, I'll drop the second and third confidence because the first confidence (prediction confidence) with a level of 95% is more reliable amongst the three cofidence levels. Therefore, I'll drop prediction_2, prediction_2_confidence, prediction_2_status, prediction_3, prediction_3_confidence, prediction_3_status and max_confidence. But before then, I'll create a new column (max_confidence) that captures the highest confidence level in every entry.\n",
    "\n",
    ">* Bearing in mind that the project focuses on dogs, the next thing will be to drop the false on prediction_1_status as they are not dogs. "
   ]
  },
  {
   "cell_type": "markdown",
   "metadata": {},
   "source": [
    "**Note:**\n",
    ">Check if all the values in the max_confidence column belong to prediction_1_confidence as this is the predictions with 95% confidence amongst the other two confidence level (p2 and p3).\n",
    "\n",
    "#### Option1: Check if all the values in the max_confidence column belong to prediction_1_confidence.\n"
   ]
  },
  {
   "cell_type": "markdown",
   "metadata": {},
   "source": [
    "**Observation**\n",
    "> From the above output, it's evident that all the values in max_confidence column, are from the prediction_1_confidence. To prove this further, I'll check for the shape of these true values.\n",
    "\n",
    "#### Option 2: Check if all the values in the max_confidence column belong to prediction_1_confidence.\n"
   ]
  },
  {
   "cell_type": "markdown",
   "metadata": {},
   "source": [
    "#### Check if all the values in the max_confidence column belong to prediction_1_confidence.\n",
    ">**Option 3**"
   ]
  },
  {
   "cell_type": "markdown",
   "metadata": {},
   "source": [
    "**Observation**\n",
    "> It was evident that the highest predictions were captured in prediction_1. Therfore, I dropped the details for Prediction_2 and prediction_3 which are prediction_2, prediction_2_confidence, prediction_2_status, prediction_3', prediction_3_confidence, prediction_3_status and max_confidence.\n",
    "\n",
    "Next, I'll therefore check the false values in prediction_1_status and drop them also because we only need to retain the dogs only."
   ]
  },
  {
   "cell_type": "markdown",
   "metadata": {},
   "source": [
    "> Looking at the prediction confidence level, despite the fact that some had high confidence of i.e 0.949591, the result obtained was web site and the prediction status was false. Therefore, dropping this entries is viable because the predictions are not dogs."
   ]
  },
  {
   "cell_type": "markdown",
   "metadata": {},
   "source": [
    "### <font color='blue'>Issue #9:\n",
    "><font color='blue'>**In the second dataframe (prediction_df) the breeds of dog p1, p2 and p3 should be in one column where it captures the breed with the highest confidence level. This column should capture the type of dogs breed.**\n",
    "This issue was resolved already."
   ]
  },
  {
   "cell_type": "markdown",
   "metadata": {},
   "source": [
    "**Notes**\n",
    ">Considering that the prediction column has all true values, I dropped this column."
   ]
  },
  {
   "cell_type": "markdown",
   "metadata": {},
   "source": [
    "### <font color='blue'>Issue #10:\n",
    "><font color='blue'>**The dog stages in the first dataframe (df) are captured in separate columns. This should be in one column called dog_stages with the details of the stages of the dog i.e. doggo, floofer, pupper, and puppo.**"
   ]
  },
  {
   "cell_type": "markdown",
   "metadata": {},
   "source": [
    "**Note**\n",
    "\n",
    "> I used the melt() to put the dog stages in one column then checked for the count of the unique values in the four columns to ensure that the right values are obtained after melting the respective columns. To perform this step, I'll create a function for value count.\n",
    "\n",
    ">Then to condense the four columns doggo, floofer, pupper and puppo into one column, I begun by replacing the None with 'missing' then use the \n",
    "```\n",
    "melt()\n",
    "```to have four dog stages in one column called dog_stages. Not replacing the None will make the empty spaces have dog stages values.\n",
    "\n"
   ]
  },
  {
   "cell_type": "markdown",
   "metadata": {},
   "source": [
    "> I then replaced the None with the word missing by creating a function for value count that will return the number of unique values in floofer, doggo,pupper and poppo columns. Having no other missing values, I saved the output to a new dataframe."
   ]
  },
  {
   "cell_type": "markdown",
   "metadata": {},
   "source": [
    "### <font color = 'Blue'>Issue #11:\n",
    "><font color = 'Blue'>**The tweet id are in dataframe one and two while in the third dataframe, it is referred to as id. This should be merged to one dataframe so that there's only one tweet id.**"
   ]
  },
  {
   "cell_type": "markdown",
   "metadata": {},
   "source": [
    "**Define**\n",
    "> Here, I renamed the id in the third dataframe to tweet_id then merge the three dataframe."
   ]
  },
  {
   "cell_type": "markdown",
   "metadata": {},
   "source": [
    "#### Additional Cleaning of Quality Issues\n",
    "> I dropped the retweet column in the third data set and all rows that had retweet data captured in the first dataset. \n",
    "\n",
    "> Having remained with original tweets only, I dropped the retweeted_status_id, retweeted_status_user_id, retweeted_status_timestamp columns as their values are all nan."
   ]
  },
  {
   "cell_type": "markdown",
   "metadata": {},
   "source": [
    "### Merging the three DataFrames.\n",
    "> I then merged the three dataframes to a cleaned_data"
   ]
  },
  {
   "cell_type": "markdown",
   "metadata": {},
   "source": [
    "<a id='STORING_DATA'></a>\n",
    "## 6.0 Storing Data\n",
    "I saved the gathered, assessed and cleaned master dataset to a CSV file named \"twitter_archive_master.csv\"."
   ]
  },
  {
   "cell_type": "markdown",
   "metadata": {},
   "source": [
    "<a id='VISUALIZATION_INSIGHTS'></a>\n",
    "## 7.0 Analyzing and Visualizing Data\n",
    "In this section, analyze and visualize your wrangled data. You must produce at least **three (3) insights and one (1) visualization.**"
   ]
  },
  {
   "cell_type": "markdown",
   "metadata": {},
   "source": [
    "### Insights:\n",
    "1. Find out if there's any relation between the img_num and prediction confidence.\n",
    "\n",
    "2. Find out if there's any relation between dog_stages_type, favorite_count, and prediction_confidence.\n",
    "\n",
    "3. Find out the dog stages with the highest number of prediction per confidence level.\n",
    "\n",
    "4. Check which day, month or year had the highest tweets."
   ]
  },
  {
   "cell_type": "markdown",
   "metadata": {
    "collapsed": true
   },
   "source": [
    "### Visualization"
   ]
  },
  {
   "cell_type": "markdown",
   "metadata": {},
   "source": [
    "### 1. Find out if there's any relation between the img_num and prediction confidence."
   ]
  },
  {
   "attachments": {
    "image.png": {
     "image/png": "[encoded data removed]"
    }
   },
   "cell_type": "markdown",
   "metadata": {},
   "source": [
    "![image.png](attachment:image.png)"
   ]
  },
  {
   "attachments": {
    "image.png": {
     "image/png": "[encoded data removed]"
    }
   },
   "cell_type": "markdown",
   "metadata": {},
   "source": [
    "![image.png](attachment:image.png)"
   ]
  },
  {
   "cell_type": "markdown",
   "metadata": {},
   "source": [
    "**Observation**\n",
    "> From the above two charts, it's evident that the images with the highest number of images were able to have high prediction confidence level. This prediction confidence reduced consequently with the reduction of the number of images. images with four number of images achieved a prediction confidence of 87% while images of one image had 59% confidence.\n",
    "\n",
    "> It's also noted that there's no correlation in image number and prediction confidence level although the bar chart inicated that images with high number of images had high prediction confidence. This is a true indication of correlation is not causation and more insights need to be performed before making conclusions."
   ]
  },
  {
   "cell_type": "markdown",
   "metadata": {},
   "source": [
    "### 2. Find out if there's any relation between tweet_id, rating_numerator, img_num, favorite_count, and prediction_1_confidence."
   ]
  },
  {
   "attachments": {
    "image.png": {
     "image/png": "[encoded data removed]"
    }
   },
   "cell_type": "markdown",
   "metadata": {},
   "source": [
    "![image.png](attachment:image.png)"
   ]
  },
  {
   "cell_type": "markdown",
   "metadata": {},
   "source": [
    "**Observation**\n",
    "> The heatmap above indicates that there's is a positive correlation between favorite count and tweet id with a value of 0.62. Prediction confidence had the weakest positive correlation of 0.015 followed by Rating numerator and image number with a weak positive correlation of 0.043 then followed by Favorite count and prediction confidence level with a weak corelation of 0.058."
   ]
  },
  {
   "cell_type": "markdown",
   "metadata": {},
   "source": [
    "### 3. Find out the dog stages with the highest number of prediction per confidence level."
   ]
  },
  {
   "attachments": {
    "image.png": {
     "image/png": "[encoded data removed]"
    }
   },
   "cell_type": "markdown",
   "metadata": {},
   "source": [
    "![image.png](attachment:image.png)"
   ]
  },
  {
   "attachments": {
    "image.png": {
     "image/png": "[encoded data removed]"
    }
   },
   "cell_type": "markdown",
   "metadata": {},
   "source": [
    "![image.png](attachment:image.png)"
   ]
  },
  {
   "cell_type": "markdown",
   "metadata": {},
   "source": [
    "**Observation**\n",
    "> Puppo dog stage had the highest prediction confidence of 97% with an average of 3 images. The scatter plot also indicates there's no correlation between these variables."
   ]
  },
  {
   "cell_type": "markdown",
   "metadata": {},
   "source": [
    "### 4. Which Dog Stage had the highest Tweet per day?"
   ]
  },
  {
   "attachments": {
    "image.png": {
     "image/png": "[encoded data removed]"
    }
   },
   "cell_type": "markdown",
   "metadata": {},
   "source": [
    "![image.png](attachment:image.png)"
   ]
  },
  {
   "cell_type": "markdown",
   "metadata": {},
   "source": [
    "**Observation**\n",
    "> Pupper had the highest number of tweets per day followed by Doggo, Puppo then Floofer."
   ]
  },
  {
   "cell_type": "markdown",
   "metadata": {},
   "source": [
    "### 5. Which Dog Stage had the Highest Favorite Count?"
   ]
  },
  {
   "attachments": {
    "image.png": {
     "image/png": "[encoded data removed]"
    }
   },
   "cell_type": "markdown",
   "metadata": {},
   "source": [
    "![image.png](attachment:image.png)"
   ]
  },
  {
   "cell_type": "markdown",
   "metadata": {},
   "source": [
    "**Observation**\n",
    "> Puppo dog stage had the highest number of favorite count with a value of 24000 favorite count."
   ]
  },
  {
   "cell_type": "markdown",
   "metadata": {},
   "source": [
    "### 6. Find out which dog prediction had the highest prediction percentage?\n"
   ]
  },
  {
   "attachments": {
    "image.png": {
     "image/png": "[encoded data removed]"
    }
   },
   "cell_type": "markdown",
   "metadata": {},
   "source": [
    "![image.png](attachment:image.png)"
   ]
  },
  {
   "cell_type": "markdown",
   "metadata": {},
   "source": [
    "**Observation**\n",
    "> The Golden Retiever had the highest prediction percentage as shown in the pie chart above."
   ]
  },
  {
   "cell_type": "markdown",
   "metadata": {},
   "source": [
    "**Conclusion**\n",
    "> It was noted that Pupper had the highest number of tweets per day but had the lowest number (8000) of favorite counts while Puppo had the highest number of favorite counts but second lowest number of tweets per day. This is an indication that although had the highest number of tweets, it seemed not to be the favorite Dog stage and there's need to investigate as to why this is so. The investigation could entail considering other variables and building machine learning models that could help discover the insights thereof."
   ]
  }
 ],
 "metadata": {
  "extensions": {
   "jupyter_dashboards": {
    "activeView": "report_default",
    "version": 1,
    "views": {
     "grid_default": {
      "cellMargin": 10,
      "defaultCellHeight": 20,
      "maxColumns": 12,
      "name": "grid",
      "type": "grid"
     },
     "report_default": {
      "name": "report",
      "type": "report"
     }
    }
   }
  },
  "kernelspec": {
   "display_name": "Python 3",
   "language": "python",
   "name": "python3"
  },
  "language_info": {
   "codemirror_mode": {
    "name": "ipython",
    "version": 3
   },
   "file_extension": ".py",
   "mimetype": "text/x-python",
   "name": "python",
   "nbconvert_exporter": "python",
   "pygments_lexer": "ipython3",
   "version": "3.6.3"
  }
 },
 "nbformat": 4,
 "nbformat_minor": 2
}
